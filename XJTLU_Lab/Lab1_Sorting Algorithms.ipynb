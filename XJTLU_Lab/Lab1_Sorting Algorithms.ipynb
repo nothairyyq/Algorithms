{
 "cells": [
  {
   "cell_type": "markdown",
   "metadata": {},
   "source": [
    "<h1>Lab 1 - Sorting Algorithms</h1>"
   ]
  },
  {
   "cell_type": "markdown",
   "metadata": {},
   "source": [
    "Sorting refers to arranging data in a particular format. Sorting algorithm specifies the way to arrange data in a particular order. Most common orders are in numerical or lexicographical order.\n",
    "\n",
    "The importance of sorting lies in the fact that data searching can be optimized to a very high level, if data is stored in a sorted manner. Sorting is also used to represent data in more readable formats. \n",
    "\n",
    "In Lab1, we will cover 4 such implementations of sorting in python.\n",
    "\n",
    "<ul>\n",
    "    <li>Insertion Sort</li>\n",
    "    <li>Merge Sort</li>\n",
    "    <li>Heap Sort</li>\n",
    "    <li>Quick Sort</li>\n",
    "</ul>\n"
   ]
  },
  {
   "cell_type": "markdown",
   "metadata": {},
   "source": [
    "<h2>Environment Setup</h2>"
   ]
  },
  {
   "cell_type": "markdown",
   "metadata": {},
   "source": [
    "To make sure you have correctly installed python and jupyter notebook, we start today's lab by printing the version of Python. \n",
    "\n",
    "We can executing the following code to get the version you use. Make sure you are using \"Python 3\" for this module."
   ]
  },
  {
   "cell_type": "code",
   "execution_count": 1,
   "metadata": {},
   "outputs": [
    {
     "name": "stdout",
     "output_type": "stream",
     "text": [
      "3.7.6 (default, Jan  8 2020, 20:23:39) [MSC v.1916 64 bit (AMD64)]\n"
     ]
    }
   ],
   "source": [
    "# Check the Python Version\n",
    "\n",
    "import sys\n",
    "print(sys.version)"
   ]
  },
  {
   "cell_type": "markdown",
   "metadata": {},
   "source": [
    "<div class=\"alert alert-success alertsuccess\" style=\"margin-top: 20px\">\n",
    "[Tip]: To execute the Python code in the above code cell, click on the cell to select it and press <kbd>Shift</kbd> + <kbd>Enter</kbd>.\n",
    "</div>\n",
    "<hr/>"
   ]
  },
  {
   "cell_type": "markdown",
   "metadata": {},
   "source": [
    "If you are not familiar with Python, or need some refresher exercises. You can try the Kaggle python course: https://www.kaggle.com/learn/python"
   ]
  },
  {
   "cell_type": "markdown",
   "metadata": {},
   "source": [
    "<h2> Insertion Sort </h2>"
   ]
  },
  {
   "cell_type": "markdown",
   "metadata": {},
   "source": [
    "Insertion sort involves finding the right place for a given element in a sorted list. So in beginning we compare the first two elements and sort them by comparing them. Then we pick the third element and find its proper position among the previous two sorted elements. This way we gradually go on adding more elements to the already sorted list by putting them in their proper position.\n",
    "\n",
    "The code for Insertion Sort is give below."
   ]
  },
  {
   "cell_type": "code",
   "execution_count": 3,
   "metadata": {},
   "outputs": [
    {
     "name": "stdout",
     "output_type": "stream",
     "text": [
      "[2, 11, 19, 27, 30, 31, 45, 121]\n",
      "[2, 11, 19, 27, 30, 31, 45, 121]\n"
     ]
    }
   ],
   "source": [
    "def insertion_sort(InputList):\n",
    "    for j in range(1, len(InputList)):\n",
    "        key = InputList[j]\n",
    "        i = j-1\n",
    "        # Compare the current element with next one\n",
    "        while (InputList[i] > key) and (i >= 0):\n",
    "            InputList[i+1] = InputList[i]\n",
    "            i=i-1\n",
    "        InputList[i+1] = key\n",
    "\n",
    "def insertSort(arr):\n",
    "    for i in range(1,len(arr)):\n",
    "        j=i-1\n",
    "        value = arr[i]\n",
    "        while j>=0 and arr[j] > value: \n",
    "            arr[j+1]=arr[j]\n",
    "            j-=1\n",
    "        arr[j+1]=value\n",
    "\n",
    "arr = [19,2,31,45,30,11,121,27]\n",
    "insertion_sort(arr)\n",
    "print(arr)\n",
    "arr2 = [19,2,31,45,30,11,121,27]\n",
    "insertSort(arr2)\n",
    "print(arr2)"
   ]
  },
  {
   "cell_type": "markdown",
   "metadata": {},
   "source": [
    "When the above code is executed, it produces the sorted array: [2, 11, 19, 27, 30, 31, 45, 121]."
   ]
  },
  {
   "cell_type": "markdown",
   "metadata": {},
   "source": [
    "<h2> Merge Sort </h2>"
   ]
  },
  {
   "cell_type": "markdown",
   "metadata": {},
   "source": [
    "Merge sort first divides the array into equal halves and then combines them in a sorted manner.\n",
    "\n",
    "Implement Merge Sort by completing the following two functions: **merge_sort** and **merge**."
   ]
  },
  {
   "cell_type": "code",
   "execution_count": 7,
   "metadata": {},
   "outputs": [
    {
     "name": "stdout",
     "output_type": "stream",
     "text": [
      "[11, 12, 22, 25, 34, 64, 90]\n"
     ]
    }
   ],
   "source": [
    "def merge_sort(unsorted_list):\n",
    "    if len(unsorted_list) <= 1:\n",
    "        return unsorted_list\n",
    "    \n",
    "    # Find the middle point and divide it\n",
    "    middle = len(unsorted_list) // 2\n",
    "    \n",
    "    #divide the array into two halves\n",
    "    left_list = unsorted_list[:middle]\n",
    "    right_list = unsorted_list[middle:]\n",
    "    \n",
    "    #call merge_sort for the first half\n",
    "    left_list = merge_sort(left_list)\n",
    "    #call merge_sort for the second half\n",
    "    right_list = merge_sort(right_list)\n",
    "    \n",
    "    return list(merge(left_list, right_list))\n",
    "\n",
    "\n",
    "def merge(left_half,right_half):\n",
    "    res = []\n",
    "    l,r=0,0\n",
    "    while l<len(left_half) and r<len(right_half):\n",
    "        if left_half[l] <= right_half[r]:\n",
    "            res.append(left_half[l])\n",
    "            l+=1\n",
    "        else:\n",
    "            res.append(right_half[r])\n",
    "            r+=1\n",
    "    res+=left_half[l:]\n",
    "    res+=right_half[r:]\n",
    "    return res\n",
    "\n",
    "arr = [64, 34, 25, 12, 22, 11, 90]\n",
    "print(merge_sort(arr))"
   ]
  },
  {
   "cell_type": "markdown",
   "metadata": {},
   "source": [
    "When the above code is executed, it should produce the sorted array: [11, 12, 22, 25, 34, 64, 90]"
   ]
  },
  {
   "cell_type": "markdown",
   "metadata": {},
   "source": [
    "<h2> Heap Sort </h2>"
   ]
  },
  {
   "cell_type": "markdown",
   "metadata": {},
   "source": [
    "The heapsort algorithm can be divided into two parts:\n",
    "In the first step, a heap is built out of the data.\n",
    "In the second step, a sorted array is created by repeatedly removing the largest element from the heap (the root of the heap), and inserting it into the array. The heap is updated after each removal to maintain the heap property. Once all objects have been removed from the heap, the result is a sorted array.\n",
    "\n",
    "In order to maintain the max-heap property, we need to complete the following **heapify** function."
   ]
  },
  {
   "cell_type": "code",
   "execution_count": 1,
   "metadata": {},
   "outputs": [
    {
     "name": "stdout",
     "output_type": "stream",
     "text": [
      "[5, 6, 7, 11, 12, 13]\n"
     ]
    }
   ],
   "source": [
    "# To heapify subtree rooted at index i.\n",
    "# n is size of heap\n",
    "def heapify(arr, n, i):\n",
    "    largest = i  # Initialize largest as root\n",
    "    left =  2*i+1     # left = 2*i + 1\n",
    "    right = 2*i+2     # right = 2*i + 2\n",
    "\n",
    "    # See if left child of root exists and is greater than root\n",
    "    if left < n and arr[left] > arr[largest]:\n",
    "        largest = left\n",
    " \n",
    "    # See if right child of root exists and is greater than root\n",
    "    if right < n and arr[right] > arr[largest]:\n",
    "        largest = right\n",
    " \n",
    "    if largest != i:\n",
    "        # exchange arr[i] with arr[largest]\n",
    "        arr[largest],arr[i] = arr[i],arr[largest]\n",
    "        # Heapify the root.\n",
    "        heapify(arr,n,largest)\n",
    "\n",
    "\n",
    "# The main function to sort an array of given size\n",
    "def heapSort(arr):\n",
    "    n = len(arr)\n",
    "\n",
    "    # Build a maxheap.\n",
    "    for i in range(n//2 - 1, -1, -1):\n",
    "        heapify(arr, n, i)\n",
    " \n",
    "    # One by one extract elements\n",
    "    for i in range(n-1, 0, -1):\n",
    "        arr[i], arr[0] = arr[0], arr[i]  # swap\n",
    "        heapify(arr, i, 0)\n",
    "\n",
    "\n",
    "arr = [12, 11, 13, 5, 6, 7]\n",
    "heapSort(arr)\n",
    "print(arr)"
   ]
  },
  {
   "cell_type": "markdown",
   "metadata": {},
   "source": [
    "When the above code is executed, it should produce the sorted array: [5, 6, 7, 11, 12, 13]"
   ]
  },
  {
   "cell_type": "markdown",
   "metadata": {},
   "source": [
    "<h2> Quick Sort </h2>"
   ]
  },
  {
   "cell_type": "markdown",
   "metadata": {},
   "source": [
    "Quicksort, like merge sort, applies the divide-and-conquer paradigm.Here is the three-step divide-and-conquer process for sorting a typical subarray.\n",
    "\n",
    "**Divide**: Partition (rearrange) the array A[start..end] into two (possibly empty) subarrays A[start..q-1] and A[q+1..end] such that each element of A[start..q-1]  is\n",
    "less than or equal to A[q], which is, in turn, less than or equal to each element\n",
    "of A[q+1..end]. Compute the index q as part of this partitioning procedure.\n",
    "\n",
    "**Conquer**: Sort the two subarrays A[start..q-1] and A[q+1..end] by recursive calls\n",
    "to quicksort.\n",
    "\n",
    "**Combine**: Because the subarrays are already sorted, no work is needed to combine\n",
    "them: the entire array A[start,end] is now sorted."
   ]
  },
  {
   "cell_type": "markdown",
   "metadata": {},
   "source": [
    "The key to the algorithm is the **PARTITION** procedure, which rearranges the subarray\n",
    "A[start,end] in place. Follow the pseudocode given in the lecture notes to finish the **partition** function below."
   ]
  },
  {
   "cell_type": "code",
   "execution_count": 8,
   "metadata": {},
   "outputs": [
    {
     "name": "stdout",
     "output_type": "stream",
     "text": [
      "[1, 7, 8, 9, 10, 5]\n"
     ]
    }
   ],
   "source": [
    "def partition(A,start,end):\n",
    "    i=start\n",
    "    x=A[i]\n",
    "    for j in range(start,end):\n",
    "        if A[j] < x:\n",
    "            i+=1\n",
    "            A[i],A[j]=A[j],A[i]\n",
    "    A[start],A[i]=A[i],A[start]\n",
    "    return i\n",
    "     \n",
    "# The main function that implements QuickSort\n",
    "def quick_sort(A, start, end):\n",
    "     \n",
    "    if start<end:\n",
    "         \n",
    "        # q is partitioning index\n",
    "        q = partition(A, start, end)\n",
    "         \n",
    "        # Sort elements before partition and after partition\n",
    "        quick_sort(A,start, q - 1)\n",
    "        quick_sort(A,q + 1, end)\n",
    "\n",
    "arr = [ 10, 7, 8, 9, 1, 5 ]\n",
    "quick_sort(arr,0, len(arr) - 1)\n",
    "print(arr)"
   ]
  },
  {
   "cell_type": "markdown",
   "metadata": {},
   "source": [
    "When the above code is executed, it should produce the sorted array: [1, 5, 7, 8, 9, 10]"
   ]
  }
 ],
 "metadata": {
  "kernelspec": {
   "display_name": "Python 3",
   "language": "python",
   "name": "python3"
  },
  "language_info": {
   "codemirror_mode": {
    "name": "ipython",
    "version": 3
   },
   "file_extension": ".py",
   "mimetype": "text/x-python",
   "name": "python",
   "nbconvert_exporter": "python",
   "pygments_lexer": "ipython3",
   "version": "3.7.6"
  }
 },
 "nbformat": 4,
 "nbformat_minor": 4
}
