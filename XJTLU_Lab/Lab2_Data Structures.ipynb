{
 "cells": [
  {
   "cell_type": "markdown",
   "metadata": {},
   "source": [
    "<h1>Lab 2 - Data Structures</h1>"
   ]
  },
  {
   "cell_type": "markdown",
   "metadata": {},
   "source": [
    "Data structures are fundamental concepts of computer science. Learning data structures and algorithms allow us to write efficient and optimized computer programs.\n",
    "\n",
    "We have studied a number of data structures in the last few lectures, e.g., stack, queue, linked list, hash table, heap, tree, etc. In this lab, we are going to implement a linear data structure (**Linked List**) and a non-linear data structre (**Binary Search Tree**).\n"
   ]
  },
  {
   "cell_type": "markdown",
   "metadata": {},
   "source": [
    "<h2>Linked List</h2>"
   ]
  },
  {
   "cell_type": "markdown",
   "metadata": {},
   "source": [
    "A linked list is a sequence of data elements, which are connected together via links. Each node contains a connection to another node in form of a pointer. Python does not have linked lists in its standard library. \n",
    "\n",
    "In this lab, we are going to implement doubly linked lists. We will create such a list and create additional methods to insert, update and remove elements from the list.\n",
    "\n",
    "Please follow the concepts of linked lists to finish the following functions:\n",
    "\n",
    "* **insertAtBeginning** - Insert data at the beginning of the doubly linked list\n",
    "* **insertAfter** - Insert data after the given node\n",
    "* **insertAtEnd** - Insert data at the end of the list\n",
    "* **deleteNode** - Delete a node given the index\n",
    "* **listprint** - Print the whole linked list\n"
   ]
  },
  {
   "cell_type": "markdown",
   "metadata": {},
   "source": [
    "<div class=\"alert alert-success alertsuccess\" style=\"margin-top: 20px\">\n",
    "[Tip]: You can create multiple cells to test the correctness of each function.\n",
    "</div>"
   ]
  },
  {
   "cell_type": "code",
   "execution_count": 2,
   "metadata": {},
   "outputs": [
    {
     "name": "stdout",
     "output_type": "stream",
     "text": [
      "Doubly Linked List after Insertion: \n",
      "[62, 8, 24, 13, 12, 9, 45, ]\n",
      "Doubly Linked List after Deletion: \n",
      "[8, 24, 12, 9, ]\n"
     ]
    }
   ],
   "source": [
    "import gc\n",
    "# Create the node class\n",
    "class Node:\n",
    "    def __init__(self, data):\n",
    "        self.data = data\n",
    "        self.next = None\n",
    "        self.prev = None\n",
    "        \n",
    "# Create the doubly linked list class\n",
    "class doubly_linked_list:\n",
    "    def __init__(self):\n",
    "        self.head = None\n",
    "\n",
    "    # Insert at the beginning\n",
    "    def insertAtBeginning(self, new_data):\n",
    "        new_node = Node(new_data)\n",
    "        new_node.prev = None\n",
    "        new_node.next = self.head\n",
    "        if self.head != None:\n",
    "            self.head.prev = new_node\n",
    "        self.head = new_node\n",
    "\n",
    "    # Given a node as prev_node, insert a new node after the given node\n",
    "    def insertAfter(self, prev_node, new_data):\n",
    "        if prev_node == None:\n",
    "            print(\"given point is empty\")\n",
    "        new_node = Node(new_data)\n",
    "        new_node.prev = prev_node\n",
    "        new_node.next = prev_node.next\n",
    "        \n",
    "        prev_node.next = new_node\n",
    "\n",
    "        if new_node.next != None:\n",
    "            new_node.next.prev = new_node\n",
    "        \n",
    "    # Insert at the end\n",
    "    def insertAtEnd(self, new_data):\n",
    "        new_node = Node(new_data)\n",
    "\n",
    "        last = self.head\n",
    "        if self.head == None:\n",
    "            new_node.next=None\n",
    "            new_node.prev=None\n",
    "            self.head = new_node\n",
    "            return\n",
    "        \n",
    "        while last.next != None:\n",
    "            last = last.next\n",
    "\n",
    "        last.next = new_node\n",
    "        new_node.prev = last\n",
    "        new_node.next = None\n",
    "    \n",
    "    def delete(self,node):\n",
    "        if self.head == None or node == None:\n",
    "            return\n",
    "        if node == self.head:\n",
    "            self.head = self.head.next\n",
    "        if node.next != None:\n",
    "            node.next.prev = node.prev\n",
    "        if node.prev != None:\n",
    "            node.prev.next = node.next\n",
    "        gc.collect()\n",
    "\n",
    "    # Deleting a node, given the index (index start from 0)\n",
    "    def deleteNode(self, position):\n",
    "        if self.head == None or position<0:\n",
    "            return\n",
    "        \n",
    "        current = self.head\n",
    "        index = 0\n",
    "\n",
    "        while current != None and index < position:\n",
    "            current = current.next\n",
    "            index += 1 \n",
    "\n",
    "\n",
    "        if current == None:\n",
    "            return\n",
    "\n",
    "        self.delete(current)\n",
    "\n",
    "\n",
    "    # print the whole linked list\n",
    "    def listprint(self, node):\n",
    "        print(\"[\",end=\"\")\n",
    "        while node:\n",
    "            print(node.data,end=\", \")\n",
    "            last = node\n",
    "            node = node.next\n",
    "        print(\"]\")\n",
    "\n",
    "dllist = doubly_linked_list()\n",
    "dllist.insertAtBeginning(12)\n",
    "dllist.insertAtEnd(9)\n",
    "dllist.insertAtBeginning(8)\n",
    "dllist.insertAtBeginning(62)\n",
    "dllist.insertAfter(dllist.head.next, 13)\n",
    "dllist.insertAfter(dllist.head.next, 24)\n",
    "dllist.insertAtEnd(45)\n",
    "print(\"Doubly Linked List after Insertion: \")\n",
    "dllist.listprint(dllist.head)\n",
    "dllist.deleteNode(3)\n",
    "dllist.deleteNode(0)\n",
    "dllist.deleteNode(4)\n",
    "print(\"Doubly Linked List after Deletion: \")\n",
    "dllist.listprint(dllist.head)"
   ]
  },
  {
   "cell_type": "markdown",
   "metadata": {},
   "source": [
    "**After finishing the above cell, you should get the following output:**\n",
    "\n",
    "Doubly Linked List after Insertion:\n",
    "**[62, 8, 24, 13, 12, 9, 45]**\n",
    "\n",
    "Doubly Linked List after Deletion:\n",
    "**[8, 24, 12, 9]**"
   ]
  },
  {
   "cell_type": "markdown",
   "metadata": {},
   "source": [
    "<hr>"
   ]
  },
  {
   "cell_type": "markdown",
   "metadata": {},
   "source": [
    "<h2>Binary Search Tree</h2>"
   ]
  },
  {
   "cell_type": "markdown",
   "metadata": {},
   "source": [
    "A Binary Search Tree (BST) is a tree in which all the nodes follow the below-mentioned properties.\n",
    "* A binary search tree is a binary tree where each node has a key\n",
    "* The key in the left child (if exists) of a node is less than (or equal to) the key in the parent\n",
    "* The key in the right child (if exists) of a node is greater than (or equal to) the key in the parent\n",
    "* The left & right subtrees of the root are again binary search trees.\n",
    "\n",
    "In this lab, we are going to implement a binary search tree with the following operations.\n",
    "* **Insert**\n",
    "* **InorderTraversal**\n",
    "* **Minimum**\n",
    "* **Delete**\n"
   ]
  },
  {
   "cell_type": "code",
   "execution_count": 25,
   "metadata": {},
   "outputs": [
    {
     "name": "stdout",
     "output_type": "stream",
     "text": [
      "Inorder Traversal: [12, 24, 33, 41, 42, 45, 64, 66, 67, 99]\n",
      "Minimum value from the tree: 12\n",
      "After Deletion: [12, 24, 33, 41, 42, 64, 64, 66, 67]\n"
     ]
    }
   ],
   "source": [
    "class Node:\n",
    "    # Define the node\n",
    "    def __init__(self, key):\n",
    "        self.left = None\n",
    "        self.right = None\n",
    "        self.key = key\n",
    "        \n",
    "    # Insert Node\n",
    "    def Insert(self, key):\n",
    "        if self.key == key:\n",
    "            return\n",
    "        elif self.key < key:\n",
    "            if self.right == None:\n",
    "                self.right = Node(key)\n",
    "            else:\n",
    "                self.right.Insert(key)\n",
    "                return\n",
    "        elif self.key > key:\n",
    "            if self.left == None:\n",
    "                self.left = Node(key)\n",
    "            else:\n",
    "                self.left.Insert(key)\n",
    "                return\n",
    "            \n",
    "            \n",
    "    # Inorder traversal\n",
    "    # Left -> Root -> Right\n",
    "    def InorderTraversal(self, root):\n",
    "        res = []\n",
    "        if root:\n",
    "            res+=self.InorderTraversal(root.left)\n",
    "            res+=[root.key]\n",
    "            res+=self.InorderTraversal(root.right)\n",
    "        return res\n",
    "    \n",
    "    #Find the node with the minimum key\n",
    "    def Minimum(self,node):\n",
    "        minimum = node\n",
    "        while minimum.left != None:\n",
    "            minimum = minimum.left\n",
    "        return minimum\n",
    "    \n",
    "    # Delete a node with the given key\n",
    "    def Delete(self, root, key):\n",
    "        if root == None:\n",
    "            return root\n",
    "        if key < root.key:\n",
    "            root.left = self.Delete(root.left,key)\n",
    "        elif key > root.key:\n",
    "            root.right = self.Delete(root.right,key)\n",
    "        else:\n",
    "            if root.left == None:\n",
    "                temp = root.right\n",
    "                root = None\n",
    "                return temp\n",
    "            elif root.right == None:\n",
    "                temp = root.left\n",
    "                root = None\n",
    "                return temp\n",
    "            temp = self.Minimum(root.right)\n",
    "            root.key = temp.key\n",
    "            root.right = self.Delete(root.right,key)\n",
    "        return root\n",
    "        \n",
    "\n",
    "root = Node(45)\n",
    "root.Insert(24)\n",
    "root.Insert(12)\n",
    "root.Insert(41)\n",
    "root.Insert(33)\n",
    "root.Insert(42)\n",
    "root.Insert(67)\n",
    "root.Insert(64)\n",
    "root.Insert(66)\n",
    "root.Insert(99)\n",
    "print(\"Inorder Traversal: \"+ str(root.InorderTraversal(root))) \n",
    "print(\"Minimum value from the tree: \"+ str(root.Minimum(root).key))\n",
    "root.Delete(root,45)\n",
    "root.Delete(root,99)\n",
    "print(\"After Deletion: \"+str(root.InorderTraversal(root)))"
   ]
  },
  {
   "cell_type": "markdown",
   "metadata": {},
   "source": [
    "**After finishing the above cell, you should get the following output:**\n",
    "\n",
    "Inorder Traversal: **[12, 24, 33, 41, 42, 45, 64, 66, 67, 99]**\n",
    "\n",
    "Minimum value from the tree: **12**\n",
    "\n",
    "After Deletion: **[12, 24, 33, 41, 42, 64, 66, 67]**"
   ]
  },
  {
   "cell_type": "code",
   "execution_count": null,
   "metadata": {},
   "outputs": [],
   "source": []
  }
 ],
 "metadata": {
  "kernelspec": {
   "display_name": "Python 3",
   "language": "python",
   "name": "python3"
  },
  "language_info": {
   "codemirror_mode": {
    "name": "ipython",
    "version": 3
   },
   "file_extension": ".py",
   "mimetype": "text/x-python",
   "name": "python",
   "nbconvert_exporter": "python",
   "pygments_lexer": "ipython3",
   "version": "3.7.6"
  }
 },
 "nbformat": 4,
 "nbformat_minor": 4
}
